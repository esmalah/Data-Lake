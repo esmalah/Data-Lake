{
  "nbformat": 4,
  "nbformat_minor": 0,
  "metadata": {
    "colab": {
      "provenance": []
    },
    "kernelspec": {
      "name": "python3",
      "display_name": "Python 3"
    },
    "language_info": {
      "name": "python"
    }
  },
  "cells": [
    {
      "cell_type": "code",
      "execution_count": null,
      "metadata": {
        "id": "fqS3ebg9r9To"
      },
      "outputs": [],
      "source": [
        "import pandas as pd\n",
        "import numpy as np\n",
        "import matplotlib.pyplot as plt\n",
        "from statsmodels.tsa.statespace.sarimax import SARIMAX\n",
        "import warnings\n",
        "import matplotlib.pyplot as plt\n",
        "from sklearn.cluster import KMeans\n",
        "from sklearn.preprocessing import StandardScaler\n",
        "from sklearn.metrics import silhouette_score\n",
        "from sklearn.decomposition import PCA\n",
        "\n",
        "\n",
        "# Chargement des fichiers\n",
        "bikes_df = pd.read_csv('/content/bikes.csv', delimiter=';')\n",
        "bikeshops_df = pd.read_csv('/content/bikeshops.csv', delimiter=';')\n",
        "orders_df = pd.read_csv('/content/orders.csv', delimiter=';')\n",
        "customers_df = pd.read_csv('/content/Customers.csv', delimiter=',')"
      ]
    },
    {
      "cell_type": "code",
      "source": [
        "# Jointure entre les commandes (orders) et les vélos (bikes) sur 'product.id' et 'bike.id'\n",
        "orders_bikes_df = pd.merge(orders_df, bikes_df, left_on='product.id', right_on='bike.id')\n"
      ],
      "metadata": {
        "id": "Vtgz26_kssYf"
      },
      "execution_count": null,
      "outputs": []
    },
    {
      "cell_type": "code",
      "source": [
        "orders_bikes_df['ID'] = range(1, len(orders_bikes_df) + 1)\n",
        "orders_bikes_df= orders_bikes_df.reset_index(drop=True)\n",
        "orders_bikes_df = orders_bikes_df.set_index('ID')\n",
        "orders_bikes_df = orders_bikes_df.drop(columns=['Unnamed: 0'])\n",
        "\n"
      ],
      "metadata": {
        "id": "XqQ_taHes4pX"
      },
      "execution_count": null,
      "outputs": []
    },
    {
      "cell_type": "code",
      "source": [
        "# Jointure entre les commandes (orders) et  les clients (customers) sur 'product.id' et 'bike.id'\n",
        "orders_customers_df = pd.merge(orders_df, customers_df, left_on='customer.id', right_on='CustomerKey', how='left')\n"
      ],
      "metadata": {
        "id": "LtM0J4fPs8_z"
      },
      "execution_count": null,
      "outputs": []
    },
    {
      "cell_type": "code",
      "source": [
        "# Jointure entre les deux tables résultantes sur 'order.id', 'order.line','order.date','product.id\n",
        "df_merged = pd.merge(orders_customers_df, orders_bikes_df, on=['order.id', 'order.line','order.date','product.id'], how='inner')"
      ],
      "metadata": {
        "id": "WZ37BzsVs9ao"
      },
      "execution_count": null,
      "outputs": []
    },
    {
      "cell_type": "code",
      "source": [
        "df_merged = df_merged.T.drop_duplicates().T\n",
        "df_merged = df_merged.drop(columns=['Unnamed: 0'])\n",
        "df=df_merged"
      ],
      "metadata": {
        "id": "w4Ax6xfktHnv"
      },
      "execution_count": null,
      "outputs": []
    },
    {
      "cell_type": "markdown",
      "source": [
        "Traitement des valeurs manquantes"
      ],
      "metadata": {
        "id": "VheSELQvtQEo"
      }
    },
    {
      "cell_type": "code",
      "source": [],
      "metadata": {
        "id": "UTsGr7EvtKMz"
      },
      "execution_count": null,
      "outputs": []
    },
    {
      "cell_type": "code",
      "source": [
        "data = df\n",
        "\n",
        "# Vérification des valeurs manquantes dans le dataset\n",
        "missing_values_summary = data.isnull().sum()\n",
        "\n",
        "# Création d'un DataFrame pour afficher les colonnes avec des valeurs manquantes et leur pourcentage\n",
        "missing_values_df = pd.DataFrame({\n",
        "    'Column': missing_values_summary.index,\n",
        "    'Missing Values': missing_values_summary.values,\n",
        "    'Percentage': (missing_values_summary.values / len(data)) * 100\n",
        "})\n",
        "\n",
        "# Filtrage pour afficher seulement les colonnes ayant des valeurs manquantes\n",
        "missing_values_filtered = missing_values_df[missing_values_df['Missing Values'] > 0]\n",
        "print(\"Résumé des valeurs manquantes :\")\n",
        "print(missing_values_filtered)\n",
        "\n",
        "# Identification des colonnes numériques et catégorielles\n",
        "numeric_cols = data.select_dtypes(include=['float64', 'int64']).columns\n",
        "categorical_cols = data.select_dtypes(include=['object']).columns\n",
        "\n",
        "# Imputation des colonnes numériques (avec la moyenne) et des colonnes catégorielles (avec le mode)\n",
        "for col in numeric_cols:\n",
        "    if col in missing_values_filtered['Column'].values:\n",
        "        data[col].fillna(data[col].mean(), inplace=True)\n",
        "\n",
        "for col in categorical_cols:\n",
        "    if col in missing_values_filtered['Column'].values:\n",
        "        data[col].fillna(data[col].mode()[0], inplace=True)\n"
      ],
      "metadata": {
        "colab": {
          "base_uri": "https://localhost:8080/"
        },
        "id": "zdb9OT5IwFEt",
        "outputId": "5f8b7a2c-f020-443a-e240-9b4b1e535637"
      },
      "execution_count": null,
      "outputs": [
        {
          "output_type": "stream",
          "name": "stdout",
          "text": [
            "Résumé des valeurs manquantes :\n",
            "Empty DataFrame\n",
            "Columns: [Column, Missing Values, Percentage]\n",
            "Index: []\n"
          ]
        }
      ]
    },
    {
      "cell_type": "markdown",
      "source": [
        "Traitement des doublons"
      ],
      "metadata": {
        "id": "G1g1kp0dvXBP"
      }
    },
    {
      "cell_type": "code",
      "source": [
        "print(f\"Nombre de doublons avant suppression : {data.duplicated().sum()}\")\n"
      ],
      "metadata": {
        "colab": {
          "base_uri": "https://localhost:8080/"
        },
        "id": "kXgpZvmxtguS",
        "outputId": "7947dee0-2a97-4f55-c993-765325a513df"
      },
      "execution_count": null,
      "outputs": [
        {
          "output_type": "stream",
          "name": "stdout",
          "text": [
            "Nombre de doublons avant suppression : 0\n"
          ]
        }
      ]
    },
    {
      "cell_type": "markdown",
      "source": [
        "Traitement des valeurs abberantes"
      ],
      "metadata": {
        "id": "Y-3TFrhgvyQu"
      }
    },
    {
      "cell_type": "code",
      "source": [
        "# Définition d'une fonction qui détecte les valeurs aberrantes en utilisant l'écart interquartile (IQR)\n",
        "def detect_outliers(df, column):\n",
        "    Q1 = df[column].quantile(0.25)  # Premier quartile\n",
        "    Q3 = df[column].quantile(0.75)  # Troisième quartile\n",
        "    IQR = Q3 - Q1  # Écart interquartile\n",
        "\n",
        "    lower_bound = Q1 - 1.5 * IQR\n",
        "    upper_bound = Q3 + 1.5 * IQR\n",
        "\n",
        "    # Identification des valeurs aberrantes\n",
        "    outliers = df[(df[column] < lower_bound) | (df[column] > upper_bound)]\n",
        "\n",
        "    return outliers\n",
        "\n",
        "# Vérification des valeurs aberrantes dans la colonne 'price'\n",
        "price_outliers = detect_outliers(data, 'price')\n",
        "print(f\"Nombre de valeurs aberrantes dans 'price' : {len(price_outliers)}\")\n",
        "\n",
        "# Vérification des valeurs aberrantes dans la colonne 'quantity_x'\n",
        "quantity_outliers = detect_outliers(data, 'quantity_x')\n",
        "print(f\"Nombre de valeurs aberrantes dans 'quantity_x' : {len(quantity_outliers)}\")\n",
        "\n",
        "# Filtrage des données aberrantes en excluant les valeurs en dehors des bornes\n",
        "data_filtered = data[\n",
        "    (data['price'] >= data['price'].quantile(0.25) - 1.5 * (data['price'].quantile(0.75) - data['price'].quantile(0.25))) &\n",
        "    (data['price'] <= data['price'].quantile(0.75) + 1.5 * (data['price'].quantile(0.75) - data['price'].quantile(0.25))) &\n",
        "    (data['quantity_x'] >= data['quantity_x'].quantile(0.25) - 1.5 * (data['quantity_x'].quantile(0.75) - data['quantity_x'].quantile(0.25))) &\n",
        "    (data['quantity_x'] <= data['quantity_x'].quantile(0.75) + 1.5 * (data['quantity_x'].quantile(0.75) - data['quantity_x'].quantile(0.25)))\n",
        "]\n",
        "\n",
        "# Vérification de la taille du dataset après filtrage\n",
        "print(f\"Taille du dataset après filtrage : {data_filtered.shape}\")\n",
        "\n",
        "# Affichage des premières lignes du dataset après le filtrage des valeurs aberrantes\n",
        "print(\"\\nDataset après filtrage des valeurs aberrantes :\")\n",
        "print(data_filtered.head())\n",
        "data=data_filtered\n"
      ],
      "metadata": {
        "colab": {
          "base_uri": "https://localhost:8080/"
        },
        "id": "XkikqUpkvdNG",
        "outputId": "32c45b9c-17a8-45df-b366-89895948319a"
      },
      "execution_count": null,
      "outputs": [
        {
          "output_type": "stream",
          "name": "stdout",
          "text": [
            "Nombre de valeurs aberrantes dans 'price' : 1376\n",
            "Nombre de valeurs aberrantes dans 'quantity_x' : 2542\n",
            "Taille du dataset après filtrage : (11935, 23)\n",
            "\n",
            "Dataset après filtrage des valeurs aberrantes :\n",
            "  order.id order.line order.date customer.id_x product.id quantity_x  Prefix  \\\n",
            "0        1          1   1/7/2011             2         48          1    Mrs.   \n",
            "1        1          2   1/7/2011             2         52          1    Mrs.   \n",
            "2        2          1  1/10/2011            10         76          1     Ms.   \n",
            "3        2          2  1/10/2011            10         52          1     Ms.   \n",
            "5        3          2  1/10/2011             6         50          1    Miss   \n",
            "\n",
            "   FirstName  LastName    BirthDate  ...  AnnualIncome  TotalChildren  \\\n",
            "0      Alice     Smith   02/12/1988  ...         60000              2   \n",
            "1      Alice     Smith   02/12/1988  ...         60000              2   \n",
            "2      Fiona      Teal   12/09/1989  ...         46000              1   \n",
            "3      Fiona      Teal   12/09/1989  ...         46000              1   \n",
            "5       Jane      Blue   14/04/1995  ...         32000              0   \n",
            "\n",
            "   EducationLevel  Occupation  HomeOwner                model category1  \\\n",
            "0        Master's      Doctor         No      Jekyll Carbon 2  Mountain   \n",
            "1        Master's      Doctor         No     Trigger Carbon 2  Mountain   \n",
            "2     Associate's    Engineer        Yes  Beast of the East 1  Mountain   \n",
            "3     Associate's    Engineer        Yes     Trigger Carbon 2  Mountain   \n",
            "5     Associate's     Student         No      Jekyll Carbon 4  Mountain   \n",
            "\n",
            "       category2     frame price  \n",
            "0  Over Mountain    Carbon  6070  \n",
            "1  Over Mountain    Carbon  5970  \n",
            "2          Trail  Aluminum  2770  \n",
            "3  Over Mountain    Carbon  5970  \n",
            "5  Over Mountain    Carbon  3200  \n",
            "\n",
            "[5 rows x 23 columns]\n"
          ]
        }
      ]
    },
    {
      "cell_type": "markdown",
      "source": [
        "Encodage des variables catégorielles :"
      ],
      "metadata": {
        "id": "r_f6bNDkwJ6V"
      }
    },
    {
      "cell_type": "code",
      "source": [
        "# Liste des colonnes catégorielles pertinentes\n",
        "categorical_cols_to_encode = ['category1', 'category2', ' Occupation', ' HomeOwner',\n",
        "                              ' EducationLevel', ' MaritalStatus', ' Gender', 'frame']\n",
        "\n",
        "# Encodage de fréquence pour chaque colonne catégorielle pertinente\n",
        "for col in categorical_cols_to_encode:\n",
        "    if col in data.columns:\n",
        "        # Remplacer chaque catégorie par la fréquence d'apparition de la catégorie\n",
        "        freq_encoding = data[col].value_counts(normalize=True)\n",
        "        data[col] = data[col].map(freq_encoding)\n",
        "\n",
        "# Affichage des premières lignes du dataset après encodage\n",
        "print(\"\\nDataset après encodage de fréquence :\")\n",
        "print(data.head())\n",
        "\n",
        "# Affichage de la taille du dataset après encodage\n",
        "print(f\"\\nTaille du dataset après encodage : {data.shape}\")"
      ],
      "metadata": {
        "colab": {
          "base_uri": "https://localhost:8080/"
        },
        "id": "NNaPfo2TwBPD",
        "outputId": "d192d053-b2ff-47e4-d2fe-e6127169b11d"
      },
      "execution_count": null,
      "outputs": [
        {
          "output_type": "stream",
          "name": "stdout",
          "text": [
            "\n",
            "Dataset après encodage de fréquence :\n",
            "  order.id order.line order.date customer.id_x product.id quantity_x  Prefix  \\\n",
            "0        1          1   1/7/2011             2         48          1    Mrs.   \n",
            "1        1          2   1/7/2011             2         52          1    Mrs.   \n",
            "2        2          1  1/10/2011            10         76          1     Ms.   \n",
            "3        2          2  1/10/2011            10         52          1     Ms.   \n",
            "5        3          2  1/10/2011             6         50          1    Miss   \n",
            "\n",
            "   FirstName  LastName    BirthDate  ...   AnnualIncome   TotalChildren  \\\n",
            "0      Alice     Smith   02/12/1988  ...          60000               2   \n",
            "1      Alice     Smith   02/12/1988  ...          60000               2   \n",
            "2      Fiona      Teal   12/09/1989  ...          46000               1   \n",
            "3      Fiona      Teal   12/09/1989  ...          46000               1   \n",
            "5       Jane      Blue   14/04/1995  ...          32000               0   \n",
            "\n",
            "   EducationLevel  Occupation  HomeOwner                model  category1  \\\n",
            "0        0.151571    0.056473   0.364474      Jekyll Carbon 2   0.502472   \n",
            "1        0.151571    0.056473   0.364474     Trigger Carbon 2   0.502472   \n",
            "2        0.252367    0.192794   0.635526  Beast of the East 1   0.502472   \n",
            "3        0.252367    0.192794   0.635526     Trigger Carbon 2   0.502472   \n",
            "5        0.252367    0.019690   0.364474      Jekyll Carbon 4   0.502472   \n",
            "\n",
            "   category2    frame  price  \n",
            "0   0.064684  0.48362   6070  \n",
            "1   0.064684  0.48362   5970  \n",
            "2   0.134227  0.51638   2770  \n",
            "3   0.064684  0.48362   5970  \n",
            "5   0.064684  0.48362   3200  \n",
            "\n",
            "[5 rows x 23 columns]\n",
            "\n",
            "Taille du dataset après encodage : (11935, 23)\n"
          ]
        },
        {
          "output_type": "stream",
          "name": "stderr",
          "text": [
            "<ipython-input-12-e1e69120d802>:10: SettingWithCopyWarning: \n",
            "A value is trying to be set on a copy of a slice from a DataFrame.\n",
            "Try using .loc[row_indexer,col_indexer] = value instead\n",
            "\n",
            "See the caveats in the documentation: https://pandas.pydata.org/pandas-docs/stable/user_guide/indexing.html#returning-a-view-versus-a-copy\n",
            "  data[col] = data[col].map(freq_encoding)\n",
            "<ipython-input-12-e1e69120d802>:10: SettingWithCopyWarning: \n",
            "A value is trying to be set on a copy of a slice from a DataFrame.\n",
            "Try using .loc[row_indexer,col_indexer] = value instead\n",
            "\n",
            "See the caveats in the documentation: https://pandas.pydata.org/pandas-docs/stable/user_guide/indexing.html#returning-a-view-versus-a-copy\n",
            "  data[col] = data[col].map(freq_encoding)\n",
            "<ipython-input-12-e1e69120d802>:10: SettingWithCopyWarning: \n",
            "A value is trying to be set on a copy of a slice from a DataFrame.\n",
            "Try using .loc[row_indexer,col_indexer] = value instead\n",
            "\n",
            "See the caveats in the documentation: https://pandas.pydata.org/pandas-docs/stable/user_guide/indexing.html#returning-a-view-versus-a-copy\n",
            "  data[col] = data[col].map(freq_encoding)\n",
            "<ipython-input-12-e1e69120d802>:10: SettingWithCopyWarning: \n",
            "A value is trying to be set on a copy of a slice from a DataFrame.\n",
            "Try using .loc[row_indexer,col_indexer] = value instead\n",
            "\n",
            "See the caveats in the documentation: https://pandas.pydata.org/pandas-docs/stable/user_guide/indexing.html#returning-a-view-versus-a-copy\n",
            "  data[col] = data[col].map(freq_encoding)\n",
            "<ipython-input-12-e1e69120d802>:10: SettingWithCopyWarning: \n",
            "A value is trying to be set on a copy of a slice from a DataFrame.\n",
            "Try using .loc[row_indexer,col_indexer] = value instead\n",
            "\n",
            "See the caveats in the documentation: https://pandas.pydata.org/pandas-docs/stable/user_guide/indexing.html#returning-a-view-versus-a-copy\n",
            "  data[col] = data[col].map(freq_encoding)\n",
            "<ipython-input-12-e1e69120d802>:10: SettingWithCopyWarning: \n",
            "A value is trying to be set on a copy of a slice from a DataFrame.\n",
            "Try using .loc[row_indexer,col_indexer] = value instead\n",
            "\n",
            "See the caveats in the documentation: https://pandas.pydata.org/pandas-docs/stable/user_guide/indexing.html#returning-a-view-versus-a-copy\n",
            "  data[col] = data[col].map(freq_encoding)\n",
            "<ipython-input-12-e1e69120d802>:10: SettingWithCopyWarning: \n",
            "A value is trying to be set on a copy of a slice from a DataFrame.\n",
            "Try using .loc[row_indexer,col_indexer] = value instead\n",
            "\n",
            "See the caveats in the documentation: https://pandas.pydata.org/pandas-docs/stable/user_guide/indexing.html#returning-a-view-versus-a-copy\n",
            "  data[col] = data[col].map(freq_encoding)\n",
            "<ipython-input-12-e1e69120d802>:10: SettingWithCopyWarning: \n",
            "A value is trying to be set on a copy of a slice from a DataFrame.\n",
            "Try using .loc[row_indexer,col_indexer] = value instead\n",
            "\n",
            "See the caveats in the documentation: https://pandas.pydata.org/pandas-docs/stable/user_guide/indexing.html#returning-a-view-versus-a-copy\n",
            "  data[col] = data[col].map(freq_encoding)\n"
          ]
        }
      ]
    },
    {
      "cell_type": "code",
      "source": [
        "\n",
        "# Conversion de la colonne 'order.date' en format datetime\n",
        "data['order.date'] = pd.to_datetime(data['order.date'])\n",
        "\n",
        "# Détermination de  la date de la dernière commande dans les données\n",
        "latest_date = data['order.date'].max()\n",
        "\n",
        "# Créer un DataFrame RFM pour stocker les valeurs\n",
        "rfm_data = data.groupby('customer.id_x').agg({\n",
        "    'order.date': lambda x: (latest_date - x.max()).days,  # Récence: nombre de jours depuis la dernière commande\n",
        "    'order.id': 'nunique',  # Fréquence: nombre total de commandes\n",
        "    'price': 'sum'  # Montant: somme des montants dépensés\n",
        "}).reset_index()\n",
        "\n",
        "# Renommage les colonnes pour plus de clarté\n",
        "rfm_data.columns = ['CustomerID', 'Recency', 'Frequency', 'Monetary']\n",
        "\n",
        "# Standardisation les données RFM pour que les valeurs soient sur la même échelle\n",
        "scaler = StandardScaler()\n",
        "rfm_scaled = scaler.fit_transform(rfm_data[['Recency', 'Frequency', 'Monetary']])\n",
        "\n",
        "# Méthode du coude pour déterminer le nombre optimal de clusters (k)\n",
        "inertia = []\n",
        "k_range = range(1, 11)\n",
        "for k in k_range:\n",
        "    kmeans = KMeans(n_clusters=k, random_state=42)\n",
        "    kmeans.fit(rfm_scaled)\n",
        "    inertia.append(kmeans.inertia_)\n",
        "\n",
        "# Visualisation de la méthode du coude pour trouver le nombre optimal de clusters\n",
        "plt.figure(figsize=(10, 6))\n",
        "plt.plot(k_range, inertia, marker='o')\n",
        "plt.title('Elbow Method for Optimal k')\n",
        "plt.xlabel('Number of Clusters (k)')\n",
        "plt.ylabel('Inertia')\n",
        "plt.grid(True)\n",
        "plt.show()\n",
        "\n",
        "\n"
      ],
      "metadata": {
        "colab": {
          "base_uri": "https://localhost:8080/",
          "height": 668
        },
        "id": "kR2NzpzrroWd",
        "outputId": "0bed8fa3-a94b-43c7-f1c7-536b6be9d678"
      },
      "execution_count": null,
      "outputs": [
        {
          "output_type": "stream",
          "name": "stderr",
          "text": [
            "<ipython-input-15-06a961bbe301>:2: SettingWithCopyWarning: \n",
            "A value is trying to be set on a copy of a slice from a DataFrame.\n",
            "Try using .loc[row_indexer,col_indexer] = value instead\n",
            "\n",
            "See the caveats in the documentation: https://pandas.pydata.org/pandas-docs/stable/user_guide/indexing.html#returning-a-view-versus-a-copy\n",
            "  data['order.date'] = pd.to_datetime(data['order.date'])\n"
          ]
        },
        {
          "output_type": "display_data",
          "data": {
            "text/plain": [
              "<Figure size 1000x600 with 1 Axes>"
            ],
            "image/png": "[encoded data removed]"
          },
          "metadata": {}
        }
      ]
    },
    {
      "cell_type": "code",
      "source": [
        "# Choix du nombre de clusters optimal basé sur la méthode du coude (par exemple, k=4)\n",
        "optimal_k = 4\n",
        "kmeans = KMeans(n_clusters=optimal_k, random_state=42)\n",
        "rfm_data['Cluster'] = kmeans.fit_predict(rfm_scaled)\n",
        "\n",
        "# Analyser les caractéristiques de chaque cluster\n",
        "cluster_summary = rfm_data.groupby('Cluster').agg({\n",
        "    'Recency': ['mean', 'median'],\n",
        "    'Frequency': ['mean', 'median'],\n",
        "    'Monetary': ['mean', 'median'],\n",
        "    'CustomerID': 'count'\n",
        "}).reset_index()\n",
        "\n",
        "# Renommer les colonnes pour plus de clarté\n",
        "cluster_summary.columns = ['Cluster', 'Recency_Mean', 'Recency_Median', 'Frequency_Mean',\n",
        "                           'Frequency_Median', 'Monetary_Mean', 'Monetary_Median', 'Customer_Count']\n",
        "\n",
        "# Afficher un aperçu du résumé des clusters\n",
        "print(cluster_summary)"
      ],
      "metadata": {
        "id": "T2rLeVwzwhjW",
        "colab": {
          "base_uri": "https://localhost:8080/"
        },
        "outputId": "cbb99d10-70cd-4a34-8683-b46bca839480"
      },
      "execution_count": null,
      "outputs": [
        {
          "output_type": "stream",
          "name": "stdout",
          "text": [
            "   Cluster  Recency_Mean  Recency_Median  Frequency_Mean  Frequency_Median  \\\n",
            "0        0     19.894737            21.0       38.210526              34.0   \n",
            "1        1      2.000000             2.0      334.000000             334.0   \n",
            "2        2     87.600000            86.0       36.200000              35.0   \n",
            "3        3      4.200000             3.0      126.400000             115.0   \n",
            "\n",
            "   Monetary_Mean Monetary_Median  Customer_Count  \n",
            "0  706196.315789        749035.0              19  \n",
            "1      5630200.0       5630200.0               1  \n",
            "2       688317.0        599565.0               5  \n",
            "3      2374838.0       2179395.0               5  \n"
          ]
        }
      ]
    },
    {
      "cell_type": "code",
      "source": [
        "# Calcul de l'indice de silhouette pour évaluer la qualité des clusters\n",
        "silhouette_avg = silhouette_score(rfm_scaled, rfm_data['Cluster'])\n",
        "print(f\"Silhouette Score: {silhouette_avg:.2f}\")\n",
        "\n",
        "# Utilisation de PCA pour réduire la dimensionnalité à 2 composantes principales pour visualiser les clusters\n",
        "pca = PCA(n_components=2)\n",
        "rfm_pca = pca.fit_transform(rfm_scaled)\n",
        "\n",
        "# Création d'un DataFrame avec les composantes principales et les clusters\n",
        "pca_df = pd.DataFrame(data=rfm_pca, columns=['PCA1', 'PCA2'])\n",
        "pca_df['Cluster'] = rfm_data['Cluster']\n",
        "\n",
        "# Visualisation des clusters\n",
        "plt.figure(figsize=(10, 6))\n",
        "for cluster in pca_df['Cluster'].unique():\n",
        "    cluster_data = pca_df[pca_df['Cluster'] == cluster]\n",
        "    plt.scatter(cluster_data['PCA1'], cluster_data['PCA2'], label=f'Cluster {cluster}')\n",
        "\n",
        "plt.title('PCA Visualization of Clusters')\n",
        "plt.xlabel('PCA Component 1')\n",
        "plt.ylabel('PCA Component 2')\n",
        "plt.legend()\n",
        "plt.grid(True)\n",
        "plt.show()\n"
      ],
      "metadata": {
        "colab": {
          "base_uri": "https://localhost:8080/",
          "height": 581
        },
        "id": "cWDxUO70zxdi",
        "outputId": "166f43b7-59bc-433b-8016-8eeb73f16685"
      },
      "execution_count": null,
      "outputs": [
        {
          "output_type": "stream",
          "name": "stdout",
          "text": [
            "Silhouette Score: 0.49\n"
          ]
        },
        {
          "output_type": "display_data",
          "data": {
            "text/plain": [
              "<Figure size 1000x600 with 1 Axes>"
            ],
            "image/png": "[encoded data removed]"
          },
          "metadata": {}
        }
      ]
    },
    {
      "cell_type": "code",
      "source": [],
      "metadata": {
        "id": "BmQM158J0gTP"
      },
      "execution_count": null,
      "outputs": []
    }
  ]
}